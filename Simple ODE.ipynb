{
 "cells": [
  {
   "cell_type": "markdown",
   "id": "6a9cd588",
   "metadata": {},
   "source": [
    "In this notebook, we'll we solving a simple ODE using a pytorch NN"
   ]
  },
  {
   "cell_type": "markdown",
   "id": "3c3c732f",
   "metadata": {},
   "source": [
    "The differential equation we will be solving is:\n",
    "$$\n",
    "f' = R(1-t)*t\n",
    "$$"
   ]
  },
  {
   "cell_type": "code",
   "execution_count": 1,
   "id": "2f081751",
   "metadata": {},
   "outputs": [],
   "source": [
    "import numpy as np\n",
    "from torch import nn\n",
    "import torch\n",
    "from torch.optim import Adam\n",
    "import matplotlib.pyplot as plt"
   ]
  },
  {
   "cell_type": "code",
   "execution_count": 2,
   "id": "c0959297",
   "metadata": {},
   "outputs": [],
   "source": [
    "class NNapproximator(nn.Module):\n",
    "    def __init__(self,n_hidden,dim_hidden,act = nn.Tanh()):\n",
    "        super().__init__()\n",
    "        self.layer_in = nn.Linear(1,dim_hidden)\n",
    "        self.layer_out = nn.Linear(dim_hidden,1)\n",
    "        num_middle = n_hidden-1\n",
    "        self.middle_layers = nn.ModuleList(\n",
    "            [nn.Linear(dim_hidden,dim_hidden) for _ in range(num_middle)]\n",
    "        )\n",
    "        self.act = act\n",
    "    def forward(self,x):\n",
    "        out = self.act(self.layer_in(x))\n",
    "        for layer in self.middle_layers:\n",
    "            out = self.act(layer(out))\n",
    "        out = self.layer_out(out)\n",
    "        return out\n",
    "\n",
    "PINN = NNapproximator(2,2)"
   ]
  },
  {
   "cell_type": "code",
   "execution_count": 3,
   "id": "fd687572",
   "metadata": {},
   "outputs": [
    {
     "data": {
      "text/plain": [
       "tensor([[-0.0755],\n",
       "        [-0.0755]], grad_fn=<AddmmBackward0>)"
      ]
     },
     "execution_count": 3,
     "metadata": {},
     "output_type": "execute_result"
    }
   ],
   "source": [
    "PINN(torch.tensor([[1.0],[1.0]]))"
   ]
  },
  {
   "cell_type": "code",
   "execution_count": 4,
   "id": "85f188fb",
   "metadata": {},
   "outputs": [],
   "source": [
    "# This is the forward function\n",
    "def f(nn, x):\n",
    "    return nn(x)\n",
    "\n",
    "# This is the forward derivative function\n",
    "def df(nn,x,order = 1):\n",
    "    df_value = f(nn,x)\n",
    "    for _ in range(order):\n",
    "        df_value = torch.autograd.grad(\n",
    "            df_value,\n",
    "            x,\n",
    "            grad_outputs = torch.ones_like(x),\n",
    "            create_graph = True,\n",
    "            retain_graph = True\n",
    "        )[0]\n",
    "    return df_value"
   ]
  },
  {
   "cell_type": "code",
   "execution_count": 5,
   "id": "d4ed1795",
   "metadata": {},
   "outputs": [],
   "source": [
    "T0 = 0.0\n",
    "F0 = 1.0 # Boundary condition\n",
    "R = 1 # Parameter\n",
    "\n",
    "\n",
    "def compute_loss(nn,x):\n",
    "    de_loss = df(nn,x) - R*x*(1-x)\n",
    "    boundary = torch.Tensor([0.0])\n",
    "    boundary.requires_grad = True\n",
    "    bc_loss = f(nn,boundary) - F0\n",
    "    final_loss = de_loss.pow(2).mean() + bc_loss**2\n",
    "    return final_loss\n",
    "\n"
   ]
  },
  {
   "cell_type": "code",
   "execution_count": 6,
   "id": "02b204aa",
   "metadata": {},
   "outputs": [],
   "source": [
    "def optimise(optimiser,nn,x):\n",
    "    optimiser.zero_grad()\n",
    "    loss = compute_loss(nn,x)\n",
    "    loss.backward()\n",
    "    optimiser.step()\n",
    "    return loss"
   ]
  },
  {
   "cell_type": "code",
   "execution_count": 7,
   "id": "358a40b7",
   "metadata": {},
   "outputs": [],
   "source": [
    "lr = 0.001\n",
    "epochs = 30000\n",
    "# Run the full thing\n",
    "t_data = torch.linspace(0, 3, steps=10, requires_grad=True).view(-1, 1)\n",
    "PINN = NNapproximator(2,10)\n",
    "\n",
    "\n",
    "pi_optimizer = Adam(PINN.parameters(), lr=lr)"
   ]
  },
  {
   "cell_type": "code",
   "execution_count": 8,
   "id": "43dce3c6",
   "metadata": {},
   "outputs": [
    {
     "name": "stdout",
     "output_type": "stream",
     "text": [
      "0\n",
      "1000\n",
      "2000\n",
      "3000\n",
      "4000\n",
      "5000\n",
      "6000\n",
      "7000\n",
      "8000\n",
      "9000\n",
      "10000\n",
      "11000\n",
      "12000\n",
      "13000\n",
      "14000\n",
      "15000\n",
      "16000\n",
      "17000\n",
      "18000\n",
      "19000\n",
      "20000\n",
      "21000\n",
      "22000\n",
      "23000\n",
      "24000\n",
      "25000\n",
      "26000\n",
      "27000\n",
      "28000\n",
      "29000\n"
     ]
    }
   ],
   "source": [
    "loss_vector = []\n",
    "iteration_vector =[]\n",
    "for i in range(epochs):\n",
    "    loss = optimise(pi_optimizer,PINN,t_data)\n",
    "    if i % 1000==0:\n",
    "        iteration_vector.append(i)\n",
    "        loss_vector.append(loss.detach().numpy()[0])\n",
    "        print(i)"
   ]
  },
  {
   "cell_type": "code",
   "execution_count": 9,
   "id": "e5e46664",
   "metadata": {},
   "outputs": [
    {
     "data": {
      "image/png": "[encoded data removed]",
      "text/plain": [
       "<Figure size 640x480 with 1 Axes>"
      ]
     },
     "metadata": {},
     "output_type": "display_data"
    }
   ],
   "source": [
    "plt.plot(iteration_vector,loss_vector)\n",
    "plt.yscale('log')"
   ]
  },
  {
   "cell_type": "code",
   "execution_count": 10,
   "id": "55aff442",
   "metadata": {},
   "outputs": [],
   "source": [
    "# Now let's compare the solution tot he actual answer"
   ]
  },
  {
   "cell_type": "code",
   "execution_count": 11,
   "id": "e49cb1d0",
   "metadata": {},
   "outputs": [],
   "source": [
    "def f_true(t):\n",
    "    return F0-t**3 / 3 + t**2/2"
   ]
  },
  {
   "cell_type": "code",
   "execution_count": 18,
   "id": "12d8399c",
   "metadata": {},
   "outputs": [],
   "source": [
    "t_data_domain = torch.linspace(-2, 3.5, steps=1000).view(-1, 1)\n",
    "t_data_domain_numpy = t_data_domain.detach().numpy()"
   ]
  },
  {
   "cell_type": "code",
   "execution_count": 19,
   "id": "6cf9fbb8",
   "metadata": {},
   "outputs": [],
   "source": [
    "with torch.no_grad():\n",
    "    f_prediction = PINN(t_data_domain).numpy()"
   ]
  },
  {
   "cell_type": "code",
   "execution_count": 20,
   "id": "d61bad53",
   "metadata": {},
   "outputs": [
    {
     "data": {
      "text/plain": [
       "[<matplotlib.lines.Line2D at 0x28f6d9dfdf0>]"
      ]
     },
     "execution_count": 20,
     "metadata": {},
     "output_type": "execute_result"
    },
    {
     "data": {
      "image/png": "[encoded data removed]",
      "text/plain": [
       "<Figure size 640x480 with 1 Axes>"
      ]
     },
     "metadata": {},
     "output_type": "display_data"
    }
   ],
   "source": [
    "plt.plot(t_data_domain,f_true(t_data_domain))\n",
    "plt.plot(t_data_domain,f_prediction,'r')"
   ]
  },
  {
   "cell_type": "code",
   "execution_count": null,
   "id": "a27b5133",
   "metadata": {},
   "outputs": [],
   "source": []
  }
 ],
 "metadata": {
  "kernelspec": {
   "display_name": "PINN",
   "language": "python",
   "name": "pinn"
  },
  "language_info": {
   "codemirror_mode": {
    "name": "ipython",
    "version": 3
   },
   "file_extension": ".py",
   "mimetype": "text/x-python",
   "name": "python",
   "nbconvert_exporter": "python",
   "pygments_lexer": "ipython3",
   "version": "3.9.15"
  }
 },
 "nbformat": 4,
 "nbformat_minor": 5
}
