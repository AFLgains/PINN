{
 "cells": [
  {
   "cell_type": "markdown",
   "id": "22103aa9",
   "metadata": {},
   "source": [
    "Now we will use a PINN to solve the inverse problem"
   ]
  },
  {
   "cell_type": "markdown",
   "id": "888111d2",
   "metadata": {},
   "source": [
    "The differential equation we will be solving is:\n",
    "$$\n",
    "f' = R(1-t)*t\n",
    "$$\n",
    "\n",
    "but this time we don't know what R is. "
   ]
  },
  {
   "cell_type": "code",
   "execution_count": 131,
   "id": "fef47336",
   "metadata": {},
   "outputs": [],
   "source": [
    "import numpy as np\n",
    "from torch import nn\n",
    "import torch\n",
    "from torch.optim import Adam\n",
    "import matplotlib.pyplot as plt\n",
    "import itertools"
   ]
  },
  {
   "cell_type": "code",
   "execution_count": 132,
   "id": "4d139daa",
   "metadata": {},
   "outputs": [],
   "source": [
    "# Data generation\n",
    "def f_true(t,r,f):\n",
    "    return f-r*t**3 / 3 + r*t**2/2"
   ]
  },
  {
   "cell_type": "code",
   "execution_count": 133,
   "id": "e6b118f3",
   "metadata": {},
   "outputs": [],
   "source": [
    "N = 10\n",
    "R = 2\n",
    "F0 = 1\n",
    "t_data = torch.linspace(-1, 3, steps=N,requires_grad = True).view(-1, 1)\n",
    "f_data = f_true(t_data.detach().numpy(), R, F0) "
   ]
  },
  {
   "cell_type": "code",
   "execution_count": 134,
   "id": "957c142d",
   "metadata": {},
   "outputs": [
    {
     "data": {
      "text/plain": [
       "[<matplotlib.lines.Line2D at 0x13dc348b040>]"
      ]
     },
     "execution_count": 134,
     "metadata": {},
     "output_type": "execute_result"
    },
    {
     "data": {
      "image/png": "[encoded data removed]",
      "text/plain": [
       "<Figure size 640x480 with 1 Axes>"
      ]
     },
     "metadata": {},
     "output_type": "display_data"
    }
   ],
   "source": [
    "t_data_max = np.linspace(-2, 3.5,100)\n",
    "plt.plot(t_data.detach().numpy(),f_data,'or')\n",
    "plt.plot(t_data_max,f_true(t_data_max,R,F0))"
   ]
  },
  {
   "cell_type": "code",
   "execution_count": 135,
   "id": "ea4af048",
   "metadata": {},
   "outputs": [],
   "source": [
    "class NNapproximator(nn.Module):\n",
    "    def __init__(self,n_hidden,dim_hidden,act = nn.Tanh()):\n",
    "        super().__init__()\n",
    "        self.layer_in = nn.Linear(1,dim_hidden)\n",
    "        self.layer_out = nn.Linear(dim_hidden,1)\n",
    "        num_middle = n_hidden-1\n",
    "        self.middle_layers = nn.ModuleList(\n",
    "            [nn.Linear(dim_hidden,dim_hidden) for _ in range(num_middle)]\n",
    "        )\n",
    "        self.act = act\n",
    "    def forward(self,x):\n",
    "        out = self.act(self.layer_in(x))\n",
    "        for layer in self.middle_layers:\n",
    "            out = self.act(layer(out))\n",
    "        out = self.layer_out(out)\n",
    "        return out\n",
    "\n",
    "PINN = NNapproximator(2,2)"
   ]
  },
  {
   "cell_type": "code",
   "execution_count": 136,
   "id": "9e95181d",
   "metadata": {},
   "outputs": [
    {
     "data": {
      "text/plain": [
       "tensor([[0.6036],\n",
       "        [0.6036]], grad_fn=<AddmmBackward0>)"
      ]
     },
     "execution_count": 136,
     "metadata": {},
     "output_type": "execute_result"
    }
   ],
   "source": [
    "PINN(torch.tensor([[1.0],[1.0]]))"
   ]
  },
  {
   "cell_type": "code",
   "execution_count": 137,
   "id": "fab685b3",
   "metadata": {},
   "outputs": [],
   "source": [
    "r_second = nn.Parameter(torch.tensor([.5]))"
   ]
  },
  {
   "cell_type": "code",
   "execution_count": 138,
   "id": "3768c7bb",
   "metadata": {},
   "outputs": [],
   "source": [
    "# This is the forward function\n",
    "def f(nn, x):\n",
    "    return nn(x)\n",
    "\n",
    "# This is the forward derivative function\n",
    "def df(nn,x,order = 1):\n",
    "    df_value = f(nn,x)\n",
    "    for _ in range(order):\n",
    "        df_value = torch.autograd.grad(\n",
    "            df_value,\n",
    "            x,\n",
    "            grad_outputs = torch.ones_like(x),\n",
    "            create_graph = True,\n",
    "            retain_graph = True\n",
    "        )[0]\n",
    "    return df_value"
   ]
  },
  {
   "cell_type": "code",
   "execution_count": 139,
   "id": "cb6cb963",
   "metadata": {},
   "outputs": [],
   "source": [
    "F0 = 1.0 # Boundary condition"
   ]
  },
  {
   "cell_type": "code",
   "execution_count": 140,
   "id": "949012dd",
   "metadata": {},
   "outputs": [],
   "source": [
    "def compute_loss(nn,r,x):\n",
    "    de_loss = df(nn,x) - r*x*(1-x)\n",
    "    bc_loss = f(nn,t_data) - torch.as_tensor(f_data)\n",
    "    final_loss = de_loss.pow(2).mean() + bc_loss.pow(2).mean()\n",
    "    return final_loss"
   ]
  },
  {
   "cell_type": "code",
   "execution_count": 141,
   "id": "91612029",
   "metadata": {},
   "outputs": [],
   "source": [
    "def optimise(optimiser,nn,r,x):\n",
    "    optimiser.zero_grad()\n",
    "    loss = compute_loss(nn,r,x)\n",
    "    loss.backward()\n",
    "    optimiser.step()\n",
    "    return loss"
   ]
  },
  {
   "cell_type": "code",
   "execution_count": 142,
   "id": "b63f444b",
   "metadata": {},
   "outputs": [],
   "source": [
    "lr = 0.001\n",
    "epochs = 30000\n",
    "PINN = NNapproximator(2,10)\n",
    "R_approx = Rapproximator()\n",
    "#learnable_params = list(PINN.parameters()) + list(R_approx.parameters())\n",
    "learnable_params = itertools.chain(PINN.parameters(), (r_second,))\n",
    "pi_optimizer = Adam(learnable_params, lr=lr)"
   ]
  },
  {
   "cell_type": "code",
   "execution_count": null,
   "id": "1458844d",
   "metadata": {},
   "outputs": [],
   "source": []
  },
  {
   "cell_type": "code",
   "execution_count": 143,
   "id": "40e00a99",
   "metadata": {},
   "outputs": [
    {
     "name": "stdout",
     "output_type": "stream",
     "text": [
      "0\n",
      "1000\n",
      "2000\n",
      "3000\n",
      "4000\n",
      "5000\n",
      "6000\n",
      "7000\n",
      "8000\n",
      "9000\n",
      "10000\n",
      "11000\n",
      "12000\n",
      "13000\n",
      "14000\n",
      "15000\n",
      "16000\n",
      "17000\n",
      "18000\n",
      "19000\n",
      "20000\n",
      "21000\n",
      "22000\n",
      "23000\n",
      "24000\n",
      "25000\n",
      "26000\n",
      "27000\n",
      "28000\n",
      "29000\n"
     ]
    }
   ],
   "source": [
    "loss_vector = []\n",
    "iteration_vector =[]\n",
    "for i in range(epochs):\n",
    "    #loss = optimise(pi_optimizer,PINN,R_approx,t_data)\n",
    "    loss = optimise(pi_optimizer,PINN,r_second,t_data)\n",
    "    if i % 1000==0:\n",
    "        iteration_vector.append(i)\n",
    "        loss_vector.append(loss.detach().numpy())\n",
    "        print(i)"
   ]
  },
  {
   "cell_type": "code",
   "execution_count": 125,
   "id": "56aa1a67",
   "metadata": {},
   "outputs": [
    {
     "data": {
      "image/png": "[encoded data removed]",
      "text/plain": [
       "<Figure size 640x480 with 1 Axes>"
      ]
     },
     "metadata": {},
     "output_type": "display_data"
    }
   ],
   "source": [
    "plt.plot(iteration_vector,loss_vector)\n",
    "plt.yscale('log')"
   ]
  },
  {
   "cell_type": "code",
   "execution_count": 126,
   "id": "92018b21",
   "metadata": {},
   "outputs": [],
   "source": [
    "t_data_domain = torch.linspace(-2, 3.5, steps=1000).view(-1, 1)\n",
    "with torch.no_grad():\n",
    "    f_prediction = PINN(t_data_domain).numpy()"
   ]
  },
  {
   "cell_type": "code",
   "execution_count": 127,
   "id": "d27c1cce",
   "metadata": {},
   "outputs": [
    {
     "data": {
      "text/plain": [
       "[<matplotlib.lines.Line2D at 0x13dc38babb0>]"
      ]
     },
     "execution_count": 127,
     "metadata": {},
     "output_type": "execute_result"
    },
    {
     "data": {
      "image/png": "[encoded data removed]",
      "text/plain": [
       "<Figure size 640x480 with 1 Axes>"
      ]
     },
     "metadata": {},
     "output_type": "display_data"
    }
   ],
   "source": [
    "t_data_max = np.linspace(-2, 3.5,100)\n",
    "plt.plot(t_data.detach().numpy(),f_data,'or')\n",
    "plt.plot(t_data_max,f_true(t_data_max,R,F0))\n",
    "plt.plot(t_data_domain,f_prediction,'r')"
   ]
  },
  {
   "cell_type": "code",
   "execution_count": 128,
   "id": "d8a248f6",
   "metadata": {},
   "outputs": [
    {
     "data": {
      "text/plain": [
       "[Parameter containing:\n",
       " tensor([[ 0.6156],\n",
       "         [ 0.5090],\n",
       "         [-0.7465],\n",
       "         [-0.7662],\n",
       "         [ 0.6809],\n",
       "         [ 1.6559],\n",
       "         [-0.4952],\n",
       "         [ 0.3843],\n",
       "         [-0.7149],\n",
       "         [-1.1235]], requires_grad=True),\n",
       " Parameter containing:\n",
       " tensor([-1.7526, -1.1646,  2.1029,  2.0748, -0.6290,  1.1384,  1.5429, -0.9125,\n",
       "         -1.0154,  2.6493], requires_grad=True),\n",
       " Parameter containing:\n",
       " tensor([[-1.0494,  0.8047, -1.0299,  0.8790, -1.6937,  1.0389, -1.2769, -1.0195,\n",
       "           1.3346,  0.4824]], requires_grad=True),\n",
       " Parameter containing:\n",
       " tensor([-0.7994], requires_grad=True),\n",
       " Parameter containing:\n",
       " tensor([[-2.2218e-01, -2.6962e-01, -2.8803e-01, -1.4408e-02,  6.1693e-02,\n",
       "           1.1758e+00,  1.2368e-02, -3.0203e-01, -3.2549e-01,  1.5669e-01],\n",
       "         [-5.5303e-01, -4.2452e-01,  6.5546e-01,  8.3354e-01, -4.3101e-01,\n",
       "           3.0628e-01,  2.0073e-01, -3.8012e-01, -4.2406e-01,  9.0531e-01],\n",
       "         [ 1.2560e+00,  1.2920e+00, -1.1691e+00, -1.3783e+00,  1.4309e+00,\n",
       "          -1.2335e+00, -1.0181e+00,  1.3445e+00,  1.4734e+00, -1.9771e+00],\n",
       "         [-3.9324e-01, -7.3288e-01,  1.2631e+00,  6.9873e-01, -7.3825e-01,\n",
       "           2.3986e-01,  4.2326e-01, -5.9304e-01,  2.6163e-01,  1.5800e+00],\n",
       "         [ 1.8216e-01, -3.4108e-01, -1.5056e-01, -6.0168e-01, -8.5908e-01,\n",
       "           6.6954e-01,  8.2661e-04, -1.5296e-01,  1.4312e-01, -9.4329e-01],\n",
       "         [ 1.9580e-01, -3.6453e-02,  1.9424e-01, -1.6988e-01, -2.7341e-01,\n",
       "          -1.1857e+00, -1.5537e-01,  2.1436e-01,  1.0419e+00, -1.2976e+00],\n",
       "         [ 2.3405e-01,  2.9926e-01, -4.4534e-01, -6.2388e-01,  5.6323e-01,\n",
       "           1.0697e-01, -6.2334e-01,  1.9335e-01, -4.8878e-01,  9.2240e-02],\n",
       "         [ 8.4583e-01,  3.8918e-01, -6.4634e-01, -7.0070e-01,  2.4389e-01,\n",
       "          -3.6190e-01, -5.3841e-01,  4.4714e-01,  4.3354e-01, -1.7380e+00],\n",
       "         [-9.4216e-02,  7.8327e-02, -3.9682e-02, -2.8372e-01, -3.2749e-02,\n",
       "          -1.7345e+00, -3.8154e-01, -1.7088e-01,  8.0008e-01, -2.7509e-01],\n",
       "         [-1.1860e-01, -5.0307e-01,  7.9756e-01,  4.8079e-01, -4.3831e-01,\n",
       "           3.3457e-01,  2.5422e-01, -3.5764e-01,  4.5776e-01,  1.0442e+00]],\n",
       "        requires_grad=True),\n",
       " Parameter containing:\n",
       " tensor([ 0.7785,  1.0353, -0.7559,  0.5984,  0.6487, -0.8006,  0.2881, -1.0845,\n",
       "         -0.6274, -0.4585], requires_grad=True)]"
      ]
     },
     "execution_count": 128,
     "metadata": {},
     "output_type": "execute_result"
    }
   ],
   "source": [
    "[t for t in PINN.parameters()]"
   ]
  },
  {
   "cell_type": "code",
   "execution_count": 130,
   "id": "faf18ce9",
   "metadata": {},
   "outputs": [
    {
     "data": {
      "text/plain": [
       "[tensor(1.9915, grad_fn=<UnbindBackward0>)]"
      ]
     },
     "execution_count": 130,
     "metadata": {},
     "output_type": "execute_result"
    }
   ],
   "source": [
    "[t for t in r_second]"
   ]
  },
  {
   "cell_type": "code",
   "execution_count": null,
   "id": "d2376de7",
   "metadata": {},
   "outputs": [],
   "source": []
  }
 ],
 "metadata": {
  "kernelspec": {
   "display_name": "PINN",
   "language": "python",
   "name": "pinn"
  },
  "language_info": {
   "codemirror_mode": {
    "name": "ipython",
    "version": 3
   },
   "file_extension": ".py",
   "mimetype": "text/x-python",
   "name": "python",
   "nbconvert_exporter": "python",
   "pygments_lexer": "ipython3",
   "version": "3.9.15"
  }
 },
 "nbformat": 4,
 "nbformat_minor": 5
}
