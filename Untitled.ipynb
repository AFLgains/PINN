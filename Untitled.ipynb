{
 "cells": [
  {
   "cell_type": "code",
   "execution_count": 28,
   "id": "9eea5d2d",
   "metadata": {},
   "outputs": [],
   "source": [
    "import numpy as np "
   ]
  },
  {
   "cell_type": "code",
   "execution_count": 35,
   "id": "29c4dfdd",
   "metadata": {},
   "outputs": [
    {
     "name": "stdout",
     "output_type": "stream",
     "text": [
      "rank =  2\n"
     ]
    },
    {
     "data": {
      "text/plain": [
       "False"
      ]
     },
     "execution_count": 35,
     "metadata": {},
     "output_type": "execute_result"
    }
   ],
   "source": [
    "A = np.array([[0,1,0],[0,0,1],[0,2,-1]])\n",
    "C = np.array([[1,0,1]])\n",
    "O = np.concatenate((C, np.matmul(C,A)), axis=0) \n",
    "r = np.linalg.matrix_rank(O)\n",
    "print(\"rank = \",r)\n",
    "r == A.shape[0]"
   ]
  },
  {
   "cell_type": "code",
   "execution_count": 51,
   "id": "fd221f6c",
   "metadata": {},
   "outputs": [
    {
     "name": "stdout",
     "output_type": "stream",
     "text": [
      "rank =  2\n"
     ]
    },
    {
     "data": {
      "text/plain": [
       "True"
      ]
     },
     "execution_count": 51,
     "metadata": {},
     "output_type": "execute_result"
    }
   ],
   "source": [
    "A = np.array([[-1,0],[1,-0.5]])\n",
    "C = np.array([[1,1],[0,-1]])\n",
    "O = np.concatenate((C, np.matmul(C,A)), axis=0) \n",
    "r = np.linalg.matrix_rank(O)\n",
    "print(\"rank = \",r)\n",
    "r == A.shape[0]"
   ]
  },
  {
   "cell_type": "code",
   "execution_count": 42,
   "id": "71e42714",
   "metadata": {},
   "outputs": [],
   "source": [
    "import control"
   ]
  },
  {
   "cell_type": "code",
   "execution_count": 43,
   "id": "22edf14a",
   "metadata": {},
   "outputs": [
    {
     "data": {
      "text/plain": [
       "array([[ 1. , -1. ],\n",
       "       [-2. ,  0.5]])"
      ]
     },
     "execution_count": 43,
     "metadata": {},
     "output_type": "execute_result"
    }
   ],
   "source": [
    "O"
   ]
  },
  {
   "cell_type": "code",
   "execution_count": 44,
   "id": "2464fb4c",
   "metadata": {},
   "outputs": [
    {
     "data": {
      "text/plain": [
       "array([[ 1. , -1. ],\n",
       "       [-2. ,  0.5]])"
      ]
     },
     "execution_count": 44,
     "metadata": {},
     "output_type": "execute_result"
    }
   ],
   "source": [
    "control.obsv(A, C)"
   ]
  },
  {
   "cell_type": "code",
   "execution_count": 63,
   "id": "0bec70c4",
   "metadata": {},
   "outputs": [
    {
     "data": {
      "text/plain": [
       "array([[906]])"
      ]
     },
     "execution_count": 63,
     "metadata": {},
     "output_type": "execute_result"
    }
   ],
   "source": [
    "A =  np.array([[2,1],[3,4]])\n",
    "c = np.array([[10,13]])\n",
    "e = np.array([[8],[7]])\n",
    "\n",
    "y = np.matmul(np.matmul(c,A),e)\n",
    "y"
   ]
  },
  {
   "cell_type": "code",
   "execution_count": 64,
   "id": "f6e313e0",
   "metadata": {},
   "outputs": [
    {
     "data": {
      "text/plain": [
       "array([[1812,  906],\n",
       "       [2718, 3624]])"
      ]
     },
     "execution_count": 64,
     "metadata": {},
     "output_type": "execute_result"
    }
   ],
   "source": [
    "A*y"
   ]
  },
  {
   "cell_type": "code",
   "execution_count": 65,
   "id": "7a2b5754",
   "metadata": {},
   "outputs": [
    {
     "data": {
      "text/plain": [
       "array([[ 80, 104],\n",
       "       [ 70,  91]])"
      ]
     },
     "execution_count": 65,
     "metadata": {},
     "output_type": "execute_result"
    }
   ],
   "source": [
    "np.matmul(e,c)"
   ]
  },
  {
   "cell_type": "code",
   "execution_count": null,
   "id": "24b13554",
   "metadata": {},
   "outputs": [],
   "source": []
  }
 ],
 "metadata": {
  "kernelspec": {
   "display_name": "PINN",
   "language": "python",
   "name": "pinn"
  },
  "language_info": {
   "codemirror_mode": {
    "name": "ipython",
    "version": 3
   },
   "file_extension": ".py",
   "mimetype": "text/x-python",
   "name": "python",
   "nbconvert_exporter": "python",
   "pygments_lexer": "ipython3",
   "version": "3.9.15"
  }
 },
 "nbformat": 4,
 "nbformat_minor": 5
}
