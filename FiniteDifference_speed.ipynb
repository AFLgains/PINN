{
 "cells": [
  {
   "cell_type": "code",
   "execution_count": 1,
   "id": "c5c1e9d9",
   "metadata": {},
   "outputs": [],
   "source": [
    "import numpy as np "
   ]
  },
  {
   "cell_type": "code",
   "execution_count": 2,
   "id": "a55b2b7c",
   "metadata": {},
   "outputs": [
    {
     "name": "stdout",
     "output_type": "stream",
     "text": [
      "rank =  2\n"
     ]
    },
    {
     "data": {
      "text/plain": [
       "False"
      ]
     },
     "execution_count": 2,
     "metadata": {},
     "output_type": "execute_result"
    }
   ],
   "source": [
    "A = np.array([[0,1,0],[0,0,1],[0,2,-1]])\n",
    "C = np.array([[1,0,1]])\n",
    "O = np.concatenate((C, np.matmul(C,A)), axis=0) \n",
    "r = np.linalg.matrix_rank(O)\n",
    "print(\"rank = \",r)\n",
    "r == A.shape[0]"
   ]
  },
  {
   "cell_type": "code",
   "execution_count": 3,
   "id": "b2c790fd",
   "metadata": {},
   "outputs": [
    {
     "name": "stdout",
     "output_type": "stream",
     "text": [
      "rank =  2\n"
     ]
    },
    {
     "data": {
      "text/plain": [
       "True"
      ]
     },
     "execution_count": 3,
     "metadata": {},
     "output_type": "execute_result"
    }
   ],
   "source": [
    "A = np.array([[-1,0],[1,-0.5]])\n",
    "C = np.array([[1,1],[0,-1]])\n",
    "O = np.concatenate((C, np.matmul(C,A)), axis=0) \n",
    "r = np.linalg.matrix_rank(O)\n",
    "print(\"rank = \",r)\n",
    "r == A.shape[0]"
   ]
  },
  {
   "cell_type": "code",
   "execution_count": 4,
   "id": "d44cf9d3",
   "metadata": {},
   "outputs": [],
   "source": [
    "import control"
   ]
  },
  {
   "cell_type": "code",
   "execution_count": 5,
   "id": "b9221c35",
   "metadata": {},
   "outputs": [
    {
     "data": {
      "text/plain": [
       "array([[ 1. ,  1. ],\n",
       "       [ 0. , -1. ],\n",
       "       [ 0. , -0.5],\n",
       "       [-1. ,  0.5]])"
      ]
     },
     "execution_count": 5,
     "metadata": {},
     "output_type": "execute_result"
    }
   ],
   "source": [
    "O"
   ]
  },
  {
   "cell_type": "code",
   "execution_count": 6,
   "id": "88ae318e",
   "metadata": {},
   "outputs": [
    {
     "data": {
      "text/plain": [
       "array([[ 1. ,  1. ],\n",
       "       [ 0. , -1. ],\n",
       "       [ 0. , -0.5],\n",
       "       [-1. ,  0.5]])"
      ]
     },
     "execution_count": 6,
     "metadata": {},
     "output_type": "execute_result"
    }
   ],
   "source": [
    "control.obsv(A, C)"
   ]
  },
  {
   "cell_type": "code",
   "execution_count": 7,
   "id": "a03f7dcf",
   "metadata": {},
   "outputs": [
    {
     "data": {
      "text/plain": [
       "array([[906]])"
      ]
     },
     "execution_count": 7,
     "metadata": {},
     "output_type": "execute_result"
    }
   ],
   "source": [
    "A =  np.array([[2,1],[3,4]])\n",
    "c = np.array([[10,13]])\n",
    "e = np.array([[8],[7]])\n",
    "\n",
    "y = np.matmul(np.matmul(c,A),e)\n",
    "y"
   ]
  },
  {
   "cell_type": "code",
   "execution_count": 8,
   "id": "02e3d422",
   "metadata": {},
   "outputs": [
    {
     "data": {
      "text/plain": [
       "array([[1812,  906],\n",
       "       [2718, 3624]])"
      ]
     },
     "execution_count": 8,
     "metadata": {},
     "output_type": "execute_result"
    }
   ],
   "source": [
    "A*y"
   ]
  },
  {
   "cell_type": "code",
   "execution_count": 9,
   "id": "e3530298",
   "metadata": {},
   "outputs": [
    {
     "data": {
      "text/plain": [
       "array([[ 80, 104],\n",
       "       [ 70,  91]])"
      ]
     },
     "execution_count": 9,
     "metadata": {},
     "output_type": "execute_result"
    }
   ],
   "source": [
    "np.matmul(e,c)"
   ]
  },
  {
   "cell_type": "markdown",
   "id": "2e2568e6",
   "metadata": {},
   "source": [
    "# Finite difference formulas"
   ]
  },
  {
   "cell_type": "code",
   "execution_count": 10,
   "id": "1b1ddf42",
   "metadata": {},
   "outputs": [
    {
     "name": "stdout",
     "output_type": "stream",
     "text": [
      "11\n"
     ]
    },
    {
     "data": {
      "text/plain": [
       "[<matplotlib.lines.Line2D at 0x14ea336e910>]"
      ]
     },
     "execution_count": 10,
     "metadata": {},
     "output_type": "execute_result"
    },
    {
     "data": {
      "image/png": "[encoded data removed]",
      "text/plain": [
       "<Figure size 640x480 with 1 Axes>"
      ]
     },
     "metadata": {},
     "output_type": "display_data"
    }
   ],
   "source": [
    "import numpy as np\n",
    "import matplotlib.pyplot as plt\n",
    "n = 11\n",
    "A = np.zeros((n, n))\n",
    "\n",
    "\n",
    "for i in range(2, n-2):\n",
    "    A[i, i-2] = -0.5\n",
    "    A[i, i-1] = 1\n",
    "    A[i, i] = 0\n",
    "    A[i, i+1] = -1\n",
    "    A[i, i+2] = 0.5\n",
    "\n",
    "    \n",
    "A[0,0] = 1\n",
    "\n",
    "A[1,1] = 0\n",
    "A[1,2] = 9-5/8\n",
    "A[1,3] = -12\n",
    "A[1,4] = 7\n",
    "A[1,5] = -3/2\n",
    "\n",
    "A[n-2,n-6] = 3/2\n",
    "A[n-2,n-5] = -7\n",
    "A[n-2,n-4] = 12\n",
    "A[n-2,n-3] = -9\n",
    "A[n-2,n-2] = 5/2\n",
    "\n",
    "A[n-1,n-1] = 1\n",
    "\n",
    "print(np.linalg.matrix_rank(A))\n",
    "\n",
    "\n",
    "h = 1 / (n-1)\n",
    "x = np.linspace(0, 1, n)\n",
    "b = -24*x\n",
    "b[0] = 0\n",
    "b[n-1] = 0\n",
    "y = np.linalg.solve(A/h**3, b)\n",
    "plt.plot(x,y,'o')\n",
    "x = np.linspace(0, 1, 101)\n",
    "plt.plot(x,x**2*(1-x**2))\n"
   ]
  },
  {
   "cell_type": "code",
   "execution_count": 11,
   "id": "dbf7e0d0",
   "metadata": {},
   "outputs": [
    {
     "name": "stdout",
     "output_type": "stream",
     "text": [
      "100\n"
     ]
    }
   ],
   "source": [
    "# Now say we didnt know \n",
    "n = 101\n",
    "A = np.zeros((n, n))\n",
    "\n",
    "\n",
    "for i in range(2, n-2):\n",
    "    A[i, i-2] = -0.5\n",
    "    A[i, i-1] = 1\n",
    "    A[i, i] = 0\n",
    "    A[i, i+1] = -1\n",
    "    A[i, i+2] = 0.5\n",
    "\n",
    "    \n",
    "constraint_matrix = np.zeros((3,n))\n",
    "constraint_matrix[0,0] = 1\n",
    "\n",
    "constraint_matrix[1,0] = -3/2\n",
    "constraint_matrix[1,1] = 2\n",
    "constraint_matrix[1,2] = -0.5\n",
    "\n",
    "constraint_matrix[2,0] = 2\n",
    "constraint_matrix[2,1] = -5\n",
    "constraint_matrix[2,2] = 4\n",
    "constraint_matrix[2,3] = -1\n",
    "\n",
    "\n",
    "A[0,0] = -5/2\n",
    "A[0,1]= 9\n",
    "A[0,2]= -12\n",
    "A[0,3]= 7\n",
    "A[0,4]= -3/2\n",
    "\n",
    "A[1,1] = -5/2\n",
    "A[1,2]= 9\n",
    "A[1,3]= -12\n",
    "A[1,4]= 7\n",
    "A[1,5]=-3/2\n",
    "\n",
    "\n",
    "A[n-2,n-6] = 3/2\n",
    "A[n-2,n-5] = -7\n",
    "A[n-2,n-4] = 12\n",
    "A[n-2,n-3] = -9\n",
    "A[n-2,n-2] = 5/2\n",
    "\n",
    "A[n-1,n-5] = 3/2\n",
    "A[n-1,n-4] = -7\n",
    "A[n-1,n-3] = 12\n",
    "A[n-1,n-2] = -9\n",
    "A[n-1,n-1] = 5/2\n",
    "\n",
    "h = 1 / (n-1)\n",
    "x = np.linspace(0, 1, n)\n",
    "A_eq = np.vstack((constraint_matrix,A/h**3))\n",
    "\n",
    "\n",
    "print(np.linalg.matrix_rank(A_eq[0:n,:]))"
   ]
  },
  {
   "cell_type": "code",
   "execution_count": 12,
   "id": "50715156",
   "metadata": {},
   "outputs": [],
   "source": [
    "\n",
    "alpha = 4\n",
    "beta = 2\n",
    "\n",
    "b = np.zeros((n+3,1))\n",
    "b[0,0] = 0 \n",
    "b[1,0] = 0\n",
    "b[2,0] = alpha*2*h**2\n",
    "b[3:n+4,0] = -beta*24*x\n"
   ]
  },
  {
   "cell_type": "code",
   "execution_count": 13,
   "id": "a3883995",
   "metadata": {},
   "outputs": [
    {
     "name": "stderr",
     "output_type": "stream",
     "text": [
      "C:\\Users\\Ric Porteous\\AppData\\Local\\Temp\\ipykernel_39100\\4172802940.py:1: FutureWarning: `rcond` parameter will change to the default of machine precision times ``max(M, N)`` where M and N are the input matrix dimensions.\n",
      "To use the future default and silence this warning we advise to pass `rcond=None`, to keep using the old, explicitly pass `rcond=-1`.\n",
      "  y = np.linalg.lstsq(A_eq, b, rcond='warn')\n"
     ]
    },
    {
     "data": {
      "text/plain": [
       "[<matplotlib.lines.Line2D at 0x14ea33e2e80>]"
      ]
     },
     "execution_count": 13,
     "metadata": {},
     "output_type": "execute_result"
    },
    {
     "data": {
      "image/png": "[encoded data removed]",
      "text/plain": [
       "<Figure size 640x480 with 1 Axes>"
      ]
     },
     "metadata": {},
     "output_type": "display_data"
    }
   ],
   "source": [
    "y = np.linalg.lstsq(A_eq, b, rcond='warn')\n",
    "plt.plot(x,y[0],'o')\n",
    "x = np.linspace(0, 1, 101)\n",
    "plt.plot(x,x**2*(alpha-beta*x**2))"
   ]
  },
  {
   "cell_type": "code",
   "execution_count": 14,
   "id": "b8bb9178",
   "metadata": {},
   "outputs": [
    {
     "data": {
      "text/plain": [
       "array([[ -2.5,   9. , -12. , ...,   0. ,   0. ,   0. ],\n",
       "       [  0. ,  -2.5,   9. , ...,   0. ,   0. ,   0. ],\n",
       "       [ -0.5,   1. ,   0. , ...,   0. ,   0. ,   0. ],\n",
       "       ...,\n",
       "       [  0. ,   0. ,   0. , ...,   0. ,  -1. ,   0.5],\n",
       "       [  0. ,   0. ,   0. , ...,  -9. ,   2.5,   0. ],\n",
       "       [  0. ,   0. ,   0. , ...,  12. ,  -9. ,   2.5]])"
      ]
     },
     "execution_count": 14,
     "metadata": {},
     "output_type": "execute_result"
    }
   ],
   "source": [
    "A"
   ]
  },
  {
   "cell_type": "code",
   "execution_count": 15,
   "id": "0dc43ca2",
   "metadata": {},
   "outputs": [
    {
     "data": {
      "text/plain": [
       "array([[ 0.000e+00],\n",
       "       [ 0.000e+00],\n",
       "       [ 8.000e-04],\n",
       "       [-0.000e+00],\n",
       "       [-4.800e-01],\n",
       "       [-9.600e-01],\n",
       "       [-1.440e+00],\n",
       "       [-1.920e+00],\n",
       "       [-2.400e+00],\n",
       "       [-2.880e+00],\n",
       "       [-3.360e+00],\n",
       "       [-3.840e+00],\n",
       "       [-4.320e+00],\n",
       "       [-4.800e+00],\n",
       "       [-5.280e+00],\n",
       "       [-5.760e+00],\n",
       "       [-6.240e+00],\n",
       "       [-6.720e+00],\n",
       "       [-7.200e+00],\n",
       "       [-7.680e+00],\n",
       "       [-8.160e+00],\n",
       "       [-8.640e+00],\n",
       "       [-9.120e+00],\n",
       "       [-9.600e+00],\n",
       "       [-1.008e+01],\n",
       "       [-1.056e+01],\n",
       "       [-1.104e+01],\n",
       "       [-1.152e+01],\n",
       "       [-1.200e+01],\n",
       "       [-1.248e+01],\n",
       "       [-1.296e+01],\n",
       "       [-1.344e+01],\n",
       "       [-1.392e+01],\n",
       "       [-1.440e+01],\n",
       "       [-1.488e+01],\n",
       "       [-1.536e+01],\n",
       "       [-1.584e+01],\n",
       "       [-1.632e+01],\n",
       "       [-1.680e+01],\n",
       "       [-1.728e+01],\n",
       "       [-1.776e+01],\n",
       "       [-1.824e+01],\n",
       "       [-1.872e+01],\n",
       "       [-1.920e+01],\n",
       "       [-1.968e+01],\n",
       "       [-2.016e+01],\n",
       "       [-2.064e+01],\n",
       "       [-2.112e+01],\n",
       "       [-2.160e+01],\n",
       "       [-2.208e+01],\n",
       "       [-2.256e+01],\n",
       "       [-2.304e+01],\n",
       "       [-2.352e+01],\n",
       "       [-2.400e+01],\n",
       "       [-2.448e+01],\n",
       "       [-2.496e+01],\n",
       "       [-2.544e+01],\n",
       "       [-2.592e+01],\n",
       "       [-2.640e+01],\n",
       "       [-2.688e+01],\n",
       "       [-2.736e+01],\n",
       "       [-2.784e+01],\n",
       "       [-2.832e+01],\n",
       "       [-2.880e+01],\n",
       "       [-2.928e+01],\n",
       "       [-2.976e+01],\n",
       "       [-3.024e+01],\n",
       "       [-3.072e+01],\n",
       "       [-3.120e+01],\n",
       "       [-3.168e+01],\n",
       "       [-3.216e+01],\n",
       "       [-3.264e+01],\n",
       "       [-3.312e+01],\n",
       "       [-3.360e+01],\n",
       "       [-3.408e+01],\n",
       "       [-3.456e+01],\n",
       "       [-3.504e+01],\n",
       "       [-3.552e+01],\n",
       "       [-3.600e+01],\n",
       "       [-3.648e+01],\n",
       "       [-3.696e+01],\n",
       "       [-3.744e+01],\n",
       "       [-3.792e+01],\n",
       "       [-3.840e+01],\n",
       "       [-3.888e+01],\n",
       "       [-3.936e+01],\n",
       "       [-3.984e+01],\n",
       "       [-4.032e+01],\n",
       "       [-4.080e+01],\n",
       "       [-4.128e+01],\n",
       "       [-4.176e+01],\n",
       "       [-4.224e+01],\n",
       "       [-4.272e+01],\n",
       "       [-4.320e+01],\n",
       "       [-4.368e+01],\n",
       "       [-4.416e+01],\n",
       "       [-4.464e+01],\n",
       "       [-4.512e+01],\n",
       "       [-4.560e+01],\n",
       "       [-4.608e+01],\n",
       "       [-4.656e+01],\n",
       "       [-4.704e+01],\n",
       "       [-4.752e+01],\n",
       "       [-4.800e+01]])"
      ]
     },
     "execution_count": 15,
     "metadata": {},
     "output_type": "execute_result"
    }
   ],
   "source": [
    "b"
   ]
  },
  {
   "cell_type": "code",
   "execution_count": 16,
   "id": "2ad85a32",
   "metadata": {},
   "outputs": [
    {
     "name": "stdout",
     "output_type": "stream",
     "text": [
      "98\n"
     ]
    }
   ],
   "source": [
    "\n",
    "\n",
    "print(np.linalg.matrix_rank(A[0:n-1,0:n-1]))"
   ]
  },
  {
   "cell_type": "code",
   "execution_count": 17,
   "id": "28ba52de",
   "metadata": {},
   "outputs": [
    {
     "name": "stdout",
     "output_type": "stream",
     "text": [
      "100\n"
     ]
    },
    {
     "data": {
      "text/plain": [
       "[<matplotlib.lines.Line2D at 0x14ea3480f70>]"
      ]
     },
     "execution_count": 17,
     "metadata": {},
     "output_type": "execute_result"
    },
    {
     "data": {
      "image/png": "[encoded data removed]",
      "text/plain": [
       "<Figure size 640x480 with 1 Axes>"
      ]
     },
     "metadata": {},
     "output_type": "display_data"
    }
   ],
   "source": [
    "# Now without the constraint matrix\n",
    "n = 101\n",
    "A = np.zeros((n, n))\n",
    "\n",
    "\n",
    "for i in range(2, n-2):\n",
    "    A[i, i-2] = -0.5\n",
    "    A[i, i-1] = 1\n",
    "    A[i, i] = 0\n",
    "    A[i, i+1] = -1\n",
    "    A[i, i+2] = 0.5\n",
    "\n",
    "\n",
    "A[0,0] = 1\n",
    "A[1,1] = 1\n",
    "\n",
    "A[2,0] = 0\n",
    "A[2,1] = 0\n",
    "\n",
    "\n",
    "\n",
    "A[n-2,n-6] = 3/2\n",
    "A[n-2,n-5] = -7\n",
    "A[n-2,n-4] = 12\n",
    "A[n-2,n-3] = -9\n",
    "A[n-2,n-2] = 5/2\n",
    "\n",
    "A[n-1,n-5] = 3/2\n",
    "A[n-1,n-4] = -7\n",
    "A[n-1,n-3] = 12\n",
    "A[n-1,n-2] = -9\n",
    "A[n-1,n-1] = 5/2\n",
    "\n",
    "h = 1 / (n-1)\n",
    "x = np.linspace(0, 1, n)\n",
    "\n",
    "\n",
    "alpha = 2\n",
    "beta = 1\n",
    "\n",
    "\n",
    "print(np.linalg.matrix_rank(A))\n",
    "\n",
    "b = np.zeros((n,1))\n",
    "\n",
    "b[0,0] = 0 \n",
    "b[1,0] = alpha*h**2\n",
    "b[2,0] = -24*beta*x[2]*h**3 - alpha*h**2\n",
    "b[3:n,0] = -24*beta*x[3:n]*h**3\n",
    "\n",
    "y = np.linalg.solve(A, b)\n",
    "plt.plot(x,y,'o')\n",
    "x = np.linspace(0, 1, 101)\n",
    "plt.plot(x,x**2*(alpha-beta*x**2))"
   ]
  },
  {
   "cell_type": "code",
   "execution_count": 18,
   "id": "b2791abe",
   "metadata": {},
   "outputs": [
    {
     "name": "stdout",
     "output_type": "stream",
     "text": [
      "101\n",
      "(101, 101)\n",
      "[[ 1.   0.   0.  ...  0.   0.   0. ]\n",
      " [-1.5  2.  -0.5 ...  0.   0.   0. ]\n",
      " [ 1.  -2.   1.  ...  0.   0.   0. ]\n",
      " ...\n",
      " [ 0.   0.   0.  ...  0.5  0.   0. ]\n",
      " [ 0.   0.   0.  ... -1.   0.5  0. ]\n",
      " [ 0.   0.   0.  ...  0.  -1.   0.5]]\n"
     ]
    }
   ],
   "source": [
    "# Now without the constraint matrix\n",
    "n = 101\n",
    "A = np.zeros((n, n))\n",
    "\n",
    "\n",
    "for i in range(4, n):\n",
    "    A[i, i-4] = -0.5\n",
    "    A[i, i-3] = 1\n",
    "    A[i, i] = 0\n",
    "    A[i, i-1] = -1\n",
    "    A[i, i] = 0.5\n",
    "\n",
    "\n",
    "A[0,0] = 1\n",
    "\n",
    "A[1,0] = -3/2\n",
    "A[1,1] = 2\n",
    "A[1,2] = -0.5\n",
    "\n",
    "A[2,0] = 1\n",
    "A[2,1] = -2\n",
    "A[2,2] = 1\n",
    "\n",
    "A[3,1] = -5/2\n",
    "A[3,2] = 9\n",
    "A[3,3] = -12\n",
    "A[3,4] = 7\n",
    "A[3,5] = -3/2\n",
    "\n",
    "\n",
    "\n",
    "x = np.linspace(0, 1, n)\n",
    "h = x[1] - x[0]\n",
    "\n",
    "alpha = 2\n",
    "beta = 1\n",
    "\n",
    "A_eq = A\n",
    "\n",
    "print(np.linalg.matrix_rank(A_eq))\n",
    "\n",
    "print(A_eq.shape)\n",
    "print(A)"
   ]
  },
  {
   "cell_type": "code",
   "execution_count": 19,
   "id": "a90d28bd",
   "metadata": {},
   "outputs": [
    {
     "data": {
      "text/plain": [
       "[<matplotlib.lines.Line2D at 0x14ea3c0efd0>]"
      ]
     },
     "execution_count": 19,
     "metadata": {},
     "output_type": "execute_result"
    },
    {
     "data": {
      "image/png": "[encoded data removed]",
      "text/plain": [
       "<Figure size 640x480 with 1 Axes>"
      ]
     },
     "metadata": {},
     "output_type": "display_data"
    }
   ],
   "source": [
    "\n",
    "alpha = 1\n",
    "beta = 1.5\n",
    "\n",
    "b = np.zeros((n,1))\n",
    "\n",
    "b[0,0] = 0 \n",
    "b[1,0] = 0\n",
    "b[2,0] = alpha*2*h**2\n",
    "b[3:n-1,0] = -24*beta*x[1:n-3]*h**3\n",
    "\n",
    "y = np.linalg.solve(A_eq, b)\n",
    "plt.plot(x,y,'o')\n",
    "\n",
    "x = np.linspace(0, 1, 101)\n",
    "plt.plot(x,x**2*(alpha-beta*x**2))"
   ]
  },
  {
   "cell_type": "code",
   "execution_count": 74,
   "id": "dab7c9eb",
   "metadata": {},
   "outputs": [
    {
     "name": "stdout",
     "output_type": "stream",
     "text": [
      "101\n",
      "[[ 1.   0.   0.  ...  0.   0.   0. ]\n",
      " [-1.5  2.  -0.5 ...  0.   0.   0. ]\n",
      " [ 1.   1.   1.  ...  1.   1.   1. ]\n",
      " ...\n",
      " [ 0.   0.   0.  ...  0.5  0.   0. ]\n",
      " [ 0.   0.   0.  ... -1.   0.5  0. ]\n",
      " [ 0.   0.   0.  ...  0.  -1.   0.5]]\n"
     ]
    }
   ],
   "source": [
    "# Now without the constraint matrix and replacing the double derivative constraint with an integral constraint\n",
    "n = 101\n",
    "A = np.zeros((n, n))\n",
    "\n",
    "\n",
    "for i in range(4, n):\n",
    "    A[i, i-4] = -0.5\n",
    "    A[i, i-3] = 1\n",
    "    A[i, i-2] = 0\n",
    "    A[i, i-1] = -1\n",
    "    A[i, i] = 0.5\n",
    "\n",
    "# First value constraint\n",
    "A[0,0] = 1\n",
    "\n",
    "# Constraint on the first derivative\n",
    "A[1,0] = -3/2\n",
    "A[1,1] = 2\n",
    "A[1,2] = -0.5\n",
    "\n",
    "# Constraint on the second derivatice\n",
    "#A[2,0] = 1\n",
    "#A[2,1] = -2\n",
    "#A[2,2] = 1\n",
    "\n",
    "A[2,:] = 1\n",
    "\n",
    "# Constraint on the third derivatice\n",
    "A[3,1] = -5/2\n",
    "A[3,2] = 9\n",
    "A[3,3] = -12\n",
    "A[3,4] = 7\n",
    "A[3,5] = -3/2\n",
    "\n",
    "\n",
    "\n",
    "x = np.linspace(0, 1, n)\n",
    "h = x[1] - x[0]\n",
    "\n",
    "alpha = 2\n",
    "beta = 1\n",
    "\n",
    "\n",
    "print(np.linalg.matrix_rank(A))\n",
    "\n",
    "print(A)"
   ]
  },
  {
   "cell_type": "code",
   "execution_count": 80,
   "id": "cf57d4cf",
   "metadata": {},
   "outputs": [
    {
     "data": {
      "text/plain": [
       "[<matplotlib.lines.Line2D at 0x14ea9217490>]"
      ]
     },
     "execution_count": 80,
     "metadata": {},
     "output_type": "execute_result"
    },
    {
     "data": {
      "image/png": "[encoded data removed]",
      "text/plain": [
       "<Figure size 640x480 with 1 Axes>"
      ]
     },
     "metadata": {},
     "output_type": "display_data"
    }
   ],
   "source": [
    "alpha = 1\n",
    "beta = 1\n",
    "\n",
    "b = np.zeros((n,1))\n",
    "\n",
    "b[0,0] = 0 \n",
    "b[1,0] = 0\n",
    "b[2,0] = (2/15)/h\n",
    "b[3:n-1,0] = -24*beta*x[1:n-3]*h**3\n",
    "\n",
    "y = np.linalg.solve(A, b)\n",
    "plt.plot(x,y,'o')\n",
    "\n",
    "x = np.linspace(0, 1, 101)\n",
    "plt.plot(x,x**2*(1-1*x**2),'--')"
   ]
  },
  {
   "cell_type": "code",
   "execution_count": 87,
   "id": "42e784fb",
   "metadata": {},
   "outputs": [
    {
     "data": {
      "text/plain": [
       "[<matplotlib.lines.Line2D at 0x14eaae81af0>]"
      ]
     },
     "execution_count": 87,
     "metadata": {},
     "output_type": "execute_result"
    },
    {
     "data": {
      "image/png": "[encoded data removed]",
      "text/plain": [
       "<Figure size 640x480 with 1 Axes>"
      ]
     },
     "metadata": {},
     "output_type": "display_data"
    }
   ],
   "source": [
    "alpha = 1\n",
    "beta = 1\n",
    "\n",
    "b = np.zeros((n,1))\n",
    "\n",
    "b[0,0] = 0 \n",
    "b[1,0] = 0\n",
    "b[2,0] = (2/15)/h\n",
    "\n",
    "for i in range(1000):\n",
    "    b[3:n-1,0] = -np.random.uniform(0,30,len(x[1:n-3]))*h**3\n",
    "    y = np.linalg.solve(A, b)\n",
    "    plt.plot(x,y,'r-')\n",
    "x = np.linspace(0, 1, 101)\n",
    "plt.plot(x,x**2*(1-1*x**2),'--')\n",
    "\n"
   ]
  },
  {
   "cell_type": "code",
   "execution_count": 55,
   "id": "bd763d96",
   "metadata": {},
   "outputs": [
    {
     "name": "stdout",
     "output_type": "stream",
     "text": [
      "11\n",
      "[[ 1.   0.   0.   0.   0.   0.   0.   0.   0.   0.   0. ]\n",
      " [-1.5  2.  -0.5  0.   0.   0.   0.   0.   0.   0.   0. ]\n",
      " [ 1.   1.   1.   1.   1.   1.   1.   1.   1.   1.   1. ]\n",
      " [ 0.   0.   1.   0.   0.   0.   0.   0.   0.   0.   0. ]\n",
      " [ 0.   0.   0.   1.   0.   0.   0.   0.   0.   0.   0. ]\n",
      " [ 0.   0.   0.   0.   1.   0.   0.   0.   0.   0.   0. ]\n",
      " [ 0.   0.   0.   0.   0.   1.   0.   0.   0.   0.   0. ]\n",
      " [ 0.   0.   0.   0.   0.   0.   1.   0.   0.   0.   0. ]\n",
      " [ 0.   0.   0.   0.   0.   0.   0.   1.   0.   0.   0. ]\n",
      " [ 0.   0.   0.   0.   0.   0.   0.   0.   1.   0.   0. ]\n",
      " [ 0.   0.   0.   0.   0.   0.   0.   0.   0.   1.   0. ]]\n"
     ]
    }
   ],
   "source": [
    "# Now without the constraint matrix and directly trying to constrain the output\n",
    "n = 11\n",
    "A = np.zeros((n, n))\n",
    "\n",
    "\n",
    "for i in range(4, n):\n",
    "    A[i, i-1] = 1\n",
    "\n",
    "\n",
    "# First value constraint\n",
    "A[0,0] = 1\n",
    "\n",
    "# Constraint on the first derivative\n",
    "A[1,0] = -3/2\n",
    "A[1,1] = 2\n",
    "A[1,2] = -0.5\n",
    "\n",
    "# Constraint on the integral\n",
    "A[2,:] = 1\n",
    "\n",
    "# Constraint on the third derivatice\n",
    "A[3,2] = 1\n",
    "\n",
    "\n",
    "print(np.linalg.matrix_rank(A))\n",
    "\n",
    "print(A)\n"
   ]
  },
  {
   "cell_type": "code",
   "execution_count": 33,
   "id": "9adcc143",
   "metadata": {},
   "outputs": [
    {
     "data": {
      "text/plain": [
       "0.13333333333333333"
      ]
     },
     "execution_count": 33,
     "metadata": {},
     "output_type": "execute_result"
    }
   ],
   "source": [
    "2/15"
   ]
  },
  {
   "cell_type": "code",
   "execution_count": 115,
   "id": "03a47138",
   "metadata": {},
   "outputs": [
    {
     "name": "stdout",
     "output_type": "stream",
     "text": [
      "11\n"
     ]
    }
   ],
   "source": [
    "n = 11\n",
    "A = np.zeros((n, n))\n",
    "for i in range(0, n-1):\n",
    "    A[i, i] = 1\n",
    "\n",
    "    \n",
    "A[n-1,1:n] = 1\n",
    "print(np.linalg.matrix_rank(A))"
   ]
  },
  {
   "cell_type": "code",
   "execution_count": 116,
   "id": "07abe811",
   "metadata": {},
   "outputs": [
    {
     "data": {
      "text/plain": [
       "array([[1., 0., 0., 0., 0., 0., 0., 0., 0., 0., 0.],\n",
       "       [0., 1., 0., 0., 0., 0., 0., 0., 0., 0., 0.],\n",
       "       [0., 0., 1., 0., 0., 0., 0., 0., 0., 0., 0.],\n",
       "       [0., 0., 0., 1., 0., 0., 0., 0., 0., 0., 0.],\n",
       "       [0., 0., 0., 0., 1., 0., 0., 0., 0., 0., 0.],\n",
       "       [0., 0., 0., 0., 0., 1., 0., 0., 0., 0., 0.],\n",
       "       [0., 0., 0., 0., 0., 0., 1., 0., 0., 0., 0.],\n",
       "       [0., 0., 0., 0., 0., 0., 0., 1., 0., 0., 0.],\n",
       "       [0., 0., 0., 0., 0., 0., 0., 0., 1., 0., 0.],\n",
       "       [0., 0., 0., 0., 0., 0., 0., 0., 0., 1., 0.],\n",
       "       [0., 1., 1., 1., 1., 1., 1., 1., 1., 1., 1.]])"
      ]
     },
     "execution_count": 116,
     "metadata": {},
     "output_type": "execute_result"
    }
   ],
   "source": [
    "A"
   ]
  },
  {
   "cell_type": "code",
   "execution_count": 147,
   "id": "b9d1b438",
   "metadata": {},
   "outputs": [
    {
     "name": "stderr",
     "output_type": "stream",
     "text": [
      "C:\\Users\\Ric Porteous\\AppData\\Local\\Temp\\ipykernel_39100\\2464006583.py:4: RuntimeWarning: divide by zero encountered in divide\n",
      "  error = (x1-x2)/x2\n",
      "C:\\Users\\Ric Porteous\\AppData\\Local\\Temp\\ipykernel_39100\\2464006583.py:4: RuntimeWarning: invalid value encountered in divide\n",
      "  error = (x1-x2)/x2\n"
     ]
    }
   ],
   "source": [
    "s = np.linspace(0,1,101)\n",
    "x1 = -0.32*s**2 + 0.48*s\n",
    "x2 = s**2 *(1.0 - s**2)\n",
    "error = (x1-x2)/x2"
   ]
  },
  {
   "cell_type": "code",
   "execution_count": 148,
   "id": "7f495c8e",
   "metadata": {},
   "outputs": [
    {
     "data": {
      "text/plain": [
       "[<matplotlib.lines.Line2D at 0x14eab3445e0>]"
      ]
     },
     "execution_count": 148,
     "metadata": {},
     "output_type": "execute_result"
    },
    {
     "data": {
      "image/png": "[encoded data removed]",
      "text/plain": [
       "<Figure size 640x480 with 1 Axes>"
      ]
     },
     "metadata": {},
     "output_type": "display_data"
    }
   ],
   "source": [
    "plt.plot(s,x1)\n",
    "plt.plot(s,x2)\n",
    "plt.plot(s,error)"
   ]
  },
  {
   "cell_type": "code",
   "execution_count": 142,
   "id": "debb24fd",
   "metadata": {},
   "outputs": [
    {
     "data": {
      "text/plain": [
       "0.08113329999999883"
      ]
     },
     "execution_count": 142,
     "metadata": {},
     "output_type": "execute_result"
    }
   ],
   "source": [
    "sum(error)"
   ]
  },
  {
   "cell_type": "code",
   "execution_count": 138,
   "id": "961fdc0c",
   "metadata": {},
   "outputs": [
    {
     "data": {
      "text/plain": [
       "0.48"
      ]
     },
     "execution_count": 138,
     "metadata": {},
     "output_type": "execute_result"
    }
   ],
   "source": [
    "2/15/(-0.44/3+0.66/2) * 0.66"
   ]
  },
  {
   "cell_type": "code",
   "execution_count": 144,
   "id": "740e2372",
   "metadata": {},
   "outputs": [
    {
     "data": {
      "text/plain": [
       "-0.14666666666666667"
      ]
     },
     "execution_count": 144,
     "metadata": {},
     "output_type": "execute_result"
    }
   ],
   "source": [
    "-0.44/3"
   ]
  },
  {
   "cell_type": "code",
   "execution_count": null,
   "id": "00074231",
   "metadata": {},
   "outputs": [],
   "source": []
  }
 ],
 "metadata": {
  "kernelspec": {
   "display_name": "PINN",
   "language": "python",
   "name": "pinn"
  },
  "language_info": {
   "codemirror_mode": {
    "name": "ipython",
    "version": 3
   },
   "file_extension": ".py",
   "mimetype": "text/x-python",
   "name": "python",
   "nbconvert_exporter": "python",
   "pygments_lexer": "ipython3",
   "version": "3.9.15"
  }
 },
 "nbformat": 4,
 "nbformat_minor": 5
}
